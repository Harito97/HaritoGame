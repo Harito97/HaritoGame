{
 "cells": [
  {
   "cell_type": "code",
   "execution_count": 2,
   "metadata": {},
   "outputs": [
    {
     "name": "stdout",
     "output_type": "stream",
     "text": [
      "Phuong\n"
     ]
    }
   ],
   "source": [
    "# a = 'Hai'\n",
    "\n",
    "def func1():\n",
    "    global a\n",
    "    a = 'Phuong'\n",
    "\n",
    "func1()\n",
    "\n",
    "print(a)"
   ]
  },
  {
   "cell_type": "code",
   "execution_count": 3,
   "metadata": {},
   "outputs": [
    {
     "name": "stdout",
     "output_type": "stream",
     "text": [
      "5\n"
     ]
    }
   ],
   "source": [
    "number1 = 0\n",
    "number2 = 3\n",
    "\n",
    "def cal():\n",
    "    global number2\n",
    "    number1 = 2\n",
    "    # number2 = 1\n",
    "    return number1 + number2\n",
    "\n",
    "print(cal())"
   ]
  }
 ],
 "metadata": {
  "kernelspec": {
   "display_name": "py",
   "language": "python",
   "name": "python3"
  },
  "language_info": {
   "codemirror_mode": {
    "name": "ipython",
    "version": 3
   },
   "file_extension": ".py",
   "mimetype": "text/x-python",
   "name": "python",
   "nbconvert_exporter": "python",
   "pygments_lexer": "ipython3",
   "version": "3.11.8"
  }
 },
 "nbformat": 4,
 "nbformat_minor": 2
}
