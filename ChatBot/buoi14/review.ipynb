{
 "cells": [
  {
   "cell_type": "markdown",
   "metadata": {},
   "source": [
    "# Bài 16. Chữ cái lặp lại. (31/05/2024)\n",
    "Nhập vào 1 ký tự và 1 số nguyên n, nhập cách nhau bởi 1 dấu cách. In ra ký tự đó n lần. "
   ]
  },
  {
   "cell_type": "code",
   "execution_count": 2,
   "metadata": {},
   "outputs": [
    {
     "name": "stdout",
     "output_type": "stream",
     "text": [
      "ttttttt\n"
     ]
    }
   ],
   "source": [
    "char, number = input().strip().split()\n",
    "print(char * int(number))"
   ]
  },
  {
   "cell_type": "markdown",
   "metadata": {},
   "source": [
    "# Bài 39. Lũy thừa. (bvn 31/05/2024)\n",
    "Input nhập vào 2 số thực a, b, cách nhau bởi 1 dấu cách. In ra a^b.\n",
    "Ví dụ:\n",
    "Input: \n",
    "2 3\n",
    "Output:\n",
    "8"
   ]
  }
 ],
 "metadata": {
  "kernelspec": {
   "display_name": "Python 3",
   "language": "python",
   "name": "python3"
  },
  "language_info": {
   "codemirror_mode": {
    "name": "ipython",
    "version": 3
   },
   "file_extension": ".py",
   "mimetype": "text/x-python",
   "name": "python",
   "nbconvert_exporter": "python",
   "pygments_lexer": "ipython3",
   "version": "3.12.3"
  }
 },
 "nbformat": 4,
 "nbformat_minor": 2
}
