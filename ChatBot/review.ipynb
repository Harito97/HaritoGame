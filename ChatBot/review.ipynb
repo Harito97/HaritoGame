{
 "cells": [
  {
   "cell_type": "code",
   "execution_count": 1,
   "metadata": {},
   "outputs": [
    {
     "name": "stdout",
     "output_type": "stream",
     "text": [
      "Số gấp đôi của 5 là: 10\n"
     ]
    }
   ],
   "source": [
    "# Bài 1. Nhập vào 1 số. Rồi in ra 1 số gấp đôi số đó\n",
    "\n",
    "number = int(input('Nhập vào 1 số nguyên: ').strip())\n",
    "print(f'Số gấp đôi của {number} là: {number * 2}')"
   ]
  },
  {
   "cell_type": "code",
   "execution_count": 1,
   "metadata": {},
   "outputs": [
    {
     "name": "stdout",
     "output_type": "stream",
     "text": [
      "-6\n"
     ]
    }
   ],
   "source": [
    "# Bài 2. Nhập vào A, B, C. In ra kết quả của (A - B) * C\n",
    "\n",
    "# Cách 1.\n",
    "a, b, c = map(int, input('Nhập vào 3 số nguyên a b c: ').strip().split())\n",
    "\n",
    "# Cách 2.\n",
    "# a = int(input())\n",
    "# b = int(input())\n",
    "# c = int(input())\n",
    "print((a - b) * c)"
   ]
  },
  {
   "cell_type": "code",
   "execution_count": 2,
   "metadata": {},
   "outputs": [
    {
     "name": "stdout",
     "output_type": "stream",
     "text": [
      "Ký tự in thường của E là: e\n"
     ]
    }
   ],
   "source": [
    "# Bài 3. Nhập vào 1 ký tự in hoa, in ra ký tự in thường tương ứng\n",
    "\n",
    "char = input().lstrip()[0]\n",
    "print(f'Ký tự in thường của {char} là: {char.lower()}')"
   ]
  },
  {
   "cell_type": "code",
   "execution_count": 9,
   "metadata": {},
   "outputs": [
    {
     "name": "stdout",
     "output_type": "stream",
     "text": [
      "5\n"
     ]
    }
   ],
   "source": [
    "# Bài 4. Nhập vào 1 số nguyên N. Đếm số các số tự nhiên x sao cho (N - 1) / 2 < x <= N. Chú ý: Số 0 không là số tự nhiên\n",
    "# Input: 9 => 4 < x <= 9 => {5, 6, 7, 8, 9} => Output: 5\n",
    "\n",
    "N = int(input('Nhập vào 1 số nguyên N: ').strip())\n",
    "print(int(max(N, 0) - max((N - 1) / 2, 0)))"
   ]
  },
  {
   "cell_type": "code",
   "execution_count": 3,
   "metadata": {},
   "outputs": [
    {
     "name": "stdout",
     "output_type": "stream",
     "text": [
      "9505\n"
     ]
    }
   ],
   "source": [
    "# Bài 5. Nhập vào 1 số nguyên N. Đếm các số x sao cho (N + 1) < x <= N ** 2\n",
    "# Input: -8 => -7 < x <= 64 => {-6, -5, ..., -1, 0, 1, ..., 64} => Output: 71\n",
    "# Input: 0 => 1 < x <= 0 => Output: 0\n",
    "# Input: 8 => 9 < x <= 64 => {10, 11, ..., 64} => Output: 55\n",
    "# Input: 5 => 6 < x <= 25 => {7, ..., 25} => Output: 19\n",
    "\n",
    "N = int(input('Nhập vào 1 số nguyên N: ').strip())\n",
    "# if N == 0:\n",
    "#     result = 0\n",
    "# elif N > 0:\n",
    "#     result = N ** 2 - N - 1\n",
    "# else:\n",
    "#     result = N ** 2 - N - 1\n",
    "result = N ** 2 - N - 1 if N != 0 else 0\n",
    "print(result)"
   ]
  },
  {
   "cell_type": "code",
   "execution_count": 17,
   "metadata": {},
   "outputs": [
    {
     "name": "stdout",
     "output_type": "stream",
     "text": [
      "6.0\n"
     ]
    }
   ],
   "source": [
    "# Bài 11. Nhập vào a, b, c là 3 cạnh của 1 tam giác. In ra diện tích tam giác.\n",
    "\n",
    "a, b, c = map(int, input(\"Nhập vào a b c: \").strip().split())\n",
    "p = (a + b + c) / 2\n",
    "result = p * (p - a) * (p - b) * (p - c)\n",
    "print(result ** 0.5)"
   ]
  },
  {
   "cell_type": "code",
   "execution_count": 4,
   "metadata": {},
   "outputs": [
    {
     "name": "stdout",
     "output_type": "stream",
     "text": [
      "###############################################\n",
      "###############################################\n",
      "###############################################\n",
      "###############################################\n",
      "###############################################\n",
      "###############################################\n",
      "###############################################\n",
      "\n"
     ]
    }
   ],
   "source": [
    "# Bài 12. Nhập vào 2 số tự nhiên N và M < 100. In ra hình chữ nhật các ký tự # có kích thước (NxM).\n",
    "# Input: 2 3\n",
    "# Output: ###\n",
    "#         ###\n",
    "\n",
    "n, m = map(int, input(\"Nhập vào size n m: \").strip().split())\n",
    "print(('#' * m + '\\n') * n)\n",
    "# các phép toán với string: phép cộng và phép nhân"
   ]
  },
  {
   "cell_type": "code",
   "execution_count": 4,
   "metadata": {},
   "outputs": [
    {
     "name": "stdout",
     "output_type": "stream",
     "text": [
      "1\n",
      "1\n"
     ]
    }
   ],
   "source": [
    "# Bài 13. Tính giai thừa 1 số\n",
    "\n",
    "def factorial_for(n: int):\n",
    "    if n < 0:\n",
    "        return -1\n",
    "    result = 1\n",
    "    for i in range(2, n + 1):\n",
    "        result *= i\n",
    "    return result\n",
    "\n",
    "from math import factorial\n",
    "# n = 10\n",
    "n = 0\n",
    "print(factorial(n))\n",
    "print(factorial_for(n))"
   ]
  },
  {
   "cell_type": "code",
   "execution_count": 9,
   "metadata": {},
   "outputs": [
    {
     "name": "stdout",
     "output_type": "stream",
     "text": [
      "**********\n",
      "*********\n",
      "********\n",
      "*******\n",
      "******\n",
      "*****\n",
      "****\n",
      "***\n",
      "**\n",
      "*\n",
      "\n"
     ]
    }
   ],
   "source": [
    "# Bài 21. Nhập vào 1 số nguyên dương n. In ra 1 tam giác vuông cân có cạnh = n.\n",
    "# Input: 4\n",
    "# Output:\n",
    "# ****\n",
    "# ***\n",
    "# **\n",
    "# *\n",
    "\n",
    "n = int(input(\"Nhập vào 1 số nguyên dương n: \").strip())\n",
    "result = ''\n",
    "# print(n)\n",
    "for i in range(n, 0, -1):\n",
    "# for i in range(1, n + 1, +1):\n",
    "    result += '*' * i + '\\n'\n",
    "    # print(i)\n",
    "print(result)"
   ]
  },
  {
   "cell_type": "code",
   "execution_count": 10,
   "metadata": {},
   "outputs": [
    {
     "name": "stdout",
     "output_type": "stream",
     "text": [
      "8\n"
     ]
    }
   ],
   "source": [
    "# Bài 23. Cho dãy số F_{0} = 0, F_{1} = 2, F_{n + 1} = 2 * F_{n} - F_{n - 1} (cong thuc truy hoi)\n",
    "# Nhập vào n và xác định F_{n}\n",
    "# Input: 4 -> F2 = 2 * 2 - 0 = 4, F3 = 2 * 4 - 2 = 6, F4 = 2 * 6 - 4 = 8, F5 = 2 * 8 - 6 = 10 => Output: 8\n",
    "# Cthuc tổng quát: F_{n} = 2 * n (cong thuc tong quat)\n",
    "\n",
    "n = int(input('Nhap vao N: ').strip())\n",
    "print(2 * n)"
   ]
  }
 ],
 "metadata": {
  "kernelspec": {
   "display_name": "py",
   "language": "python",
   "name": "python3"
  },
  "language_info": {
   "codemirror_mode": {
    "name": "ipython",
    "version": 3
   },
   "file_extension": ".py",
   "mimetype": "text/x-python",
   "name": "python",
   "nbconvert_exporter": "python",
   "pygments_lexer": "ipython3",
   "version": "3.11.8"
  }
 },
 "nbformat": 4,
 "nbformat_minor": 2
}
