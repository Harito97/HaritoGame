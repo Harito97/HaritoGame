{
 "cells": [
  {
   "cell_type": "markdown",
   "metadata": {},
   "source": [
    "# 2024_05_06  "
   ]
  },
  {
   "cell_type": "code",
   "execution_count": null,
   "metadata": {},
   "outputs": [],
   "source": [
    "# Bài 1.  \n",
    "# Yêu cầu: em được sử dụng các lệnh sau: print, input, if, for, while nè: -> hãy tạo 1 chương trình làm chức năng gì đấy  \n"
   ]
  },
  {
   "cell_type": "code",
   "execution_count": null,
   "metadata": {},
   "outputs": [],
   "source": [
    "# BVN: 2024/05/06:\n",
    "# Tạo 1 số ngẫu nhiên (trong 1 giới hạn nào đó).\n",
    "# Liên tục cho người dùng nhập 1 con số. Nếu con số đó lớn hơn thì bảo lớn hơn và cho người dùng nhập lại. Nếu nhỏ hơn thì bảo nhỏ hơn và cho người dùng nhập lại. Nếu bằng thì chúc mừng người chơi rồi kết thúc chương trình."
   ]
  }
 ],
 "metadata": {
  "language_info": {
   "name": "python"
  }
 },
 "nbformat": 4,
 "nbformat_minor": 2
}
