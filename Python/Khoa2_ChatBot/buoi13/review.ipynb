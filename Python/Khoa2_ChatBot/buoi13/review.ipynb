{
 "cells": [
  {
   "cell_type": "markdown",
   "metadata": {},
   "source": [
    "2024/06/17  \n",
    "  \n",
    "# Bài 127.  \n",
    "  \n",
    "Nhập a, b.  \n",
    "Check a*b % 100 == 0? "
   ]
  },
  {
   "cell_type": "markdown",
   "metadata": {},
   "source": [
    "# Bài 810. (bvn 2024/05/17)  \n",
    "Có n đỉnh, n - 1 cạnh. Tìm đường đi từ đỉnh 1 đến đỉnh n.  \n",
    "Eg1:  \n",
    "3  \n",
    "3 2  \n",
    "1 3  \n",
    "Có 3 đỉnh.  \n",
    "Đỉnh 1 đến 3.  \n",
    "Đỉnh 3 đến 2.  \n",
    "Tìm đường từ 1 đến 3.  \n",
    "-> 1 - 3  \n",
    "  \n",
    "Eg2:  \n",
    "4  \n",
    "1 3  \n",
    "2 4  \n",
    "3 2  \n",
    "Có 4 đỉnh.  \n",
    "Đỉnh 1 đến 3.  \n",
    "Đỉnh 2 đến 4.  \n",
    "Đỉnh 3 đến 2.  \n",
    "Tìm đường từ 1 đến 4.  \n",
    "-> 1 - 3 - 2 - 4  "
   ]
  },
  {
   "cell_type": "code",
   "execution_count": null,
   "metadata": {},
   "outputs": [],
   "source": [
    "def read_input():\n",
    "    n = int(input().strip())\n",
    "    data = [tuple(map(int, input().strip().split())) for _ in range(n - 1)]\n",
    "    return data \n",
    "\n",
    "def change_data(data:list[tuple]) -> dict:\n",
    "    data_dict = dict()\n",
    "    for u, v in data:\n",
    "        data_dict[u] = v\n",
    "    return data_dict\n",
    "\n",
    "def process(data:list[tuple]) -> str:\n",
    "    data_dict = change_data(data)\n",
    "    ..."
   ]
  }
 ],
 "metadata": {
  "language_info": {
   "name": "python"
  }
 },
 "nbformat": 4,
 "nbformat_minor": 2
}
