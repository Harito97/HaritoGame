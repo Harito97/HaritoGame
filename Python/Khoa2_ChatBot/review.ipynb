{
 "cells": [
  {
   "cell_type": "code",
   "execution_count": 2,
   "metadata": {},
   "outputs": [
    {
     "name": "stdout",
     "output_type": "stream",
     "text": [
      "Số gấp đôi là: 8\n"
     ]
    }
   ],
   "source": [
    "# Bài 1. Nhập vào 1 số. Rồi in ra 1 số gấp đôi số đó\n",
    "\n",
    "number = int(input('Nhập vào 1 số nguyên: ').strip())\n",
    "print(f'Số gấp đôi của {number} là: {number * 2}')\n",
    "\n",
    "# print('Số gấp đôi là:', int(input('Nhập vào 1 số nguyên: ').strip()) * 2)"
   ]
  },
  {
   "cell_type": "code",
   "execution_count": 1,
   "metadata": {},
   "outputs": [
    {
     "name": "stdout",
     "output_type": "stream",
     "text": [
      "-6\n"
     ]
    }
   ],
   "source": [
    "# Bài 2. Nhập vào A, B, C. In ra kết quả của (A - B) * C\n",
    "\n",
    "# Cách 1.\n",
    "a, b, c = map(float, input('Nhập vào 3 số nguyên a b c: ').strip().split())\n",
    "\n",
    "# Cách 2.\n",
    "# a = float(input())\n",
    "# b = float(input())\n",
    "# c = float(input())\n",
    "print((a - b) * c)"
   ]
  },
  {
   "cell_type": "code",
   "execution_count": 2,
   "metadata": {},
   "outputs": [
    {
     "name": "stdout",
     "output_type": "stream",
     "text": [
      "Ký tự in thường của E là: e\n"
     ]
    }
   ],
   "source": [
    "# Bài 3. Nhập vào 1 ký tự in hoa, in ra ký tự in thường tương ứng\n",
    "\n",
    "char = input().lstrip()[0]\n",
    "print(f'Ký tự in thường của {char} là: {char.lower()}')"
   ]
  },
  {
   "cell_type": "code",
   "execution_count": 9,
   "metadata": {},
   "outputs": [
    {
     "name": "stdout",
     "output_type": "stream",
     "text": [
      "5\n"
     ]
    }
   ],
   "source": [
    "# Bài 4. Nhập vào 1 số nguyên N. Đếm số các số tự nhiên x sao cho (N - 1) / 2 < x <= N. Chú ý: Số 0 không là số tự nhiên\n",
    "# Input: 9 => 4 < x <= 9 => {5, 6, 7, 8, 9} => Output: 5\n",
    "\n",
    "N = int(input('Nhập vào 1 số nguyên N: ').strip())\n",
    "print(int(max(N, 0) - max((N - 1) / 2, 0)))"
   ]
  },
  {
   "cell_type": "code",
   "execution_count": 3,
   "metadata": {},
   "outputs": [
    {
     "name": "stdout",
     "output_type": "stream",
     "text": [
      "9505\n"
     ]
    }
   ],
   "source": [
    "# Bài 5. Nhập vào 1 số nguyên N. Đếm các số x sao cho (N + 1) < x <= N ** 2\n",
    "# Input: -8 => -7 < x <= 64 => {-6, -5, ..., -1, 0, 1, ..., 64} => Output: 71\n",
    "# Input: 0 => 1 < x <= 0 => Output: 0\n",
    "# Input: 8 => 9 < x <= 64 => {10, 11, ..., 64} => Output: 55\n",
    "# Input: 5 => 6 < x <= 25 => {7, ..., 25} => Output: 19\n",
    "\n",
    "N = int(input('Nhập vào 1 số nguyên N: ').strip())\n",
    "# if N == 0:\n",
    "#     result = 0\n",
    "# elif N > 0:\n",
    "#     result = N ** 2 - N - 1\n",
    "# else:\n",
    "#     result = N ** 2 - N - 1\n",
    "result = N ** 2 - N - 1 if N != 0 else 0\n",
    "print(result)"
   ]
  },
  {
   "cell_type": "code",
   "execution_count": 17,
   "metadata": {},
   "outputs": [
    {
     "name": "stdout",
     "output_type": "stream",
     "text": [
      "6.0\n"
     ]
    }
   ],
   "source": [
    "# Bài 11. Nhập vào a, b, c là 3 cạnh của 1 tam giác. In ra diện tích tam giác.\n",
    "\n",
    "a, b, c = map(int, input(\"Nhập vào a b c: \").strip().split())\n",
    "p = (a + b + c) / 2\n",
    "result = p * (p - a) * (p - b) * (p - c)\n",
    "print(result ** 0.5)"
   ]
  },
  {
   "cell_type": "code",
   "execution_count": 4,
   "metadata": {},
   "outputs": [
    {
     "name": "stdout",
     "output_type": "stream",
     "text": [
      "###############################################\n",
      "###############################################\n",
      "###############################################\n",
      "###############################################\n",
      "###############################################\n",
      "###############################################\n",
      "###############################################\n",
      "\n"
     ]
    }
   ],
   "source": [
    "# Bài 12. Nhập vào 2 số tự nhiên N và M < 100. In ra hình chữ nhật các ký tự # có kích thước (NxM).\n",
    "# Input: 2 3\n",
    "# Output: ###\n",
    "#         ###\n",
    "\n",
    "n, m = map(int, input(\"Nhập vào size n m: \").strip().split())\n",
    "print(('#' * m + '\\n') * n)\n",
    "# các phép toán với string: phép cộng và phép nhân"
   ]
  },
  {
   "cell_type": "code",
   "execution_count": 4,
   "metadata": {},
   "outputs": [
    {
     "name": "stdout",
     "output_type": "stream",
     "text": [
      "1\n",
      "1\n"
     ]
    }
   ],
   "source": [
    "# Bài 13. Tính giai thừa 1 số\n",
    "\n",
    "def factorial_for(n: int):\n",
    "    if n < 0:\n",
    "        return -1\n",
    "    result = 1\n",
    "    for i in range(2, n + 1):\n",
    "        result *= i\n",
    "    return result\n",
    "\n",
    "from math import factorial\n",
    "# n = 10\n",
    "n = 0\n",
    "print(factorial(n))\n",
    "print(factorial_for(n))"
   ]
  },
  {
   "cell_type": "code",
   "execution_count": 9,
   "metadata": {},
   "outputs": [
    {
     "name": "stdout",
     "output_type": "stream",
     "text": [
      "**********\n",
      "*********\n",
      "********\n",
      "*******\n",
      "******\n",
      "*****\n",
      "****\n",
      "***\n",
      "**\n",
      "*\n",
      "\n"
     ]
    }
   ],
   "source": [
    "# Bài 21. Nhập vào 1 số nguyên dương n. In ra 1 tam giác vuông cân có cạnh = n.\n",
    "# Input: 4\n",
    "# Output:\n",
    "# ****\n",
    "# ***\n",
    "# **\n",
    "# *\n",
    "\n",
    "n = int(input(\"Nhập vào 1 số nguyên dương n: \").strip())\n",
    "result = ''\n",
    "# print(n)\n",
    "for i in range(n, 0, -1):\n",
    "# for i in range(1, n + 1, +1):\n",
    "    result += '*' * i + '\\n'\n",
    "    # print(i)\n",
    "print(result)"
   ]
  },
  {
   "cell_type": "code",
   "execution_count": 10,
   "metadata": {},
   "outputs": [
    {
     "name": "stdout",
     "output_type": "stream",
     "text": [
      "8\n"
     ]
    }
   ],
   "source": [
    "# Bài 23. Cho dãy số F_{0} = 0, F_{1} = 2, F_{n + 1} = 2 * F_{n} - F_{n - 1} (cong thuc truy hoi)\n",
    "# Nhập vào n và xác định F_{n}\n",
    "# Input: 4 -> F2 = 2 * 2 - 0 = 4, F3 = 2 * 4 - 2 = 6, F4 = 2 * 6 - 4 = 8, F5 = 2 * 8 - 6 = 10 => Output: 8\n",
    "# Cthuc tổng quát: F_{n} = 2 * n (cong thuc tong quat)\n",
    "\n",
    "n = int(input('Nhap vao N: ').strip())\n",
    "print(2 * n)"
   ]
  },
  {
   "cell_type": "code",
   "execution_count": 2,
   "metadata": {},
   "outputs": [
    {
     "name": "stdout",
     "output_type": "stream",
     "text": [
      "0\n",
      "1\n",
      "2\n",
      "3\n",
      "4\n",
      "5\n",
      "6\n"
     ]
    }
   ],
   "source": [
    "# Code ví dụ về cấu trúc lặp for else\n",
    "for _ in range(10):\n",
    "    if _ == 7:\n",
    "        break\n",
    "    print(_)\n",
    "else:\n",
    "    print(12)"
   ]
  },
  {
   "cell_type": "code",
   "execution_count": 3,
   "metadata": {},
   "outputs": [
    {
     "name": "stdout",
     "output_type": "stream",
     "text": [
      "Chu vi hình chữ nhật: 34.6744\n",
      "Diện tích hình chữ nhật: 75.08958879999999\n"
     ]
    }
   ],
   "source": [
    "# Bài 52. Nhập vào 2 cạnh hình chữ nhật, in ra chu vi và diện tích hình chữ nhật đó\n",
    "a, b = map(float, input('Nhập vào 2 cạnh hình chữ nhật: ').strip().split())\n",
    "print(f'Chu vi hình chữ nhật: {2 * (a + b)}\\nDiện tích hình chữ nhật: {a * b}')"
   ]
  },
  {
   "cell_type": "code",
   "execution_count": 4,
   "metadata": {},
   "outputs": [
    {
     "name": "stdout",
     "output_type": "stream",
     "text": [
      "Output: Phương Phương\n"
     ]
    }
   ],
   "source": [
    "# Bài 25. Input: Nhập vào 1 chuỗi ký tự. In ra chuỗi ký tự đó x2 và cách bởi 1 space\n",
    "# Eg: Input: Hello => Output: Hello Hello\n",
    "word = input('Nhập vào 1 chuỗi ký tự: ').strip()\n",
    "print('Output:', word, word)"
   ]
  },
  {
   "cell_type": "code",
   "execution_count": 5,
   "metadata": {},
   "outputs": [
    {
     "name": "stdout",
     "output_type": "stream",
     "text": [
      "Output: 0.98 45.300000000000004 56.34\n"
     ]
    }
   ],
   "source": [
    "# Bài 26. Nhập vào 3 số a, b, c. Output: In ra 3 số theo thứ tự tăng dần\n",
    "a, b, c = map(float, input('Nhập vào 3 số a b c: ').strip().split())\n",
    "print('Output:', min(a, b, c), (a + b + c) - max(a, b, c) - min(a, b, c), max(a, b, c))"
   ]
  },
  {
   "cell_type": "code",
   "execution_count": 3,
   "metadata": {},
   "outputs": [
    {
     "name": "stdout",
     "output_type": "stream",
     "text": [
      "4.0 ^ 5.0 = 1024.0\n"
     ]
    }
   ],
   "source": [
    "# Bài 39. Lũy thừa. (bvn 31/05/2024)\n",
    "# Input nhập vào 2 số thực a, b, cách nhau bởi 1 dấu cách. In ra a^b.\n",
    "# Ví dụ:\n",
    "# Input: \n",
    "# 2 3\n",
    "# Output:\n",
    "# 8\n",
    "a, b = map(float, input('Nhập vào 2 số thực a b: ').strip().split())\n",
    "print(f'{a} ^ {b} = {a ** b}')\n",
    "# print(a, '^', b, '=', a ** b)"
   ]
  },
  {
   "cell_type": "code",
   "execution_count": 4,
   "metadata": {},
   "outputs": [
    {
     "name": "stdout",
     "output_type": "stream",
     "text": [
      "9 là số nguyên tố: False\n"
     ]
    }
   ],
   "source": [
    "# Bài 27. Nhập vào 1 số. Kiểm tra số đó có phải số nguyên tố không\n",
    "number = int(input('Nhập vào 1 số nguyên dương: ').strip())\n",
    "\n",
    "def is_prime(n:int):\n",
    "    if n < 2:\n",
    "        return False\n",
    "    for i in range(2, int(n ** 0.5) + 1):\n",
    "        if n % i == 0:\n",
    "            return False\n",
    "    return True\n",
    "\n",
    "print(f'{number} là số nguyên tố: {is_prime(number)}')"
   ]
  },
  {
   "cell_type": "code",
   "execution_count": 4,
   "metadata": {},
   "outputs": [
    {
     "name": "stdout",
     "output_type": "stream",
     "text": [
      "S = 1 * (1 + 6) + 2 * (2 + 6) + 3 * (3 + 6) + 4 * (4 + 6) + 5 * (5 + 6) = 145\n"
     ]
    }
   ],
   "source": [
    "# Bài 28. Tổng tịnh tiến:\n",
    "# Nhập vào n, k. Tính tổng S = 1 * (1 + k) + 2 * (2 + k) + ... + n * (n + k)\n",
    "\n",
    "n, k = map(int, input('Nhập vào 2 số n k là số nguyên dương: ').strip().split())\n",
    "\n",
    "def cal(n:int, k:int):\n",
    "    total = 0\n",
    "    result = 'S = '\n",
    "    for i in range(1, n):\n",
    "        total += i * (i + k)\n",
    "        result += f'{i} * ({i} + {k}) + '\n",
    "    total += n * (n + k)\n",
    "    result += f'{n} * ({n} + {k}) = {total}'\n",
    "    return result\n",
    "\n",
    "print(cal(n, k))"
   ]
  },
  {
   "cell_type": "code",
   "execution_count": 6,
   "metadata": {},
   "outputs": [
    {
     "name": "stdout",
     "output_type": "stream",
     "text": [
      "Số nguyên tố thứ 10 là: 29\n"
     ]
    }
   ],
   "source": [
    "# Bài 29. Nhập vào 1 số nguyên dương n. In ra số nguyên tố thứ n \n",
    "\n",
    "n = int(input('Nhập vào 1 số nguyên dương n: ').strip())\n",
    "\n",
    "def is_prime(n:int):\n",
    "    if n < 2:\n",
    "        return False\n",
    "    for i in range(2, int(n ** 0.5) + 1):\n",
    "        if n % i == 0:\n",
    "            return False\n",
    "    return True\n",
    "\n",
    "def nth_prime(n:int):\n",
    "    count = 0\n",
    "    i = 2\n",
    "    while count < n:\n",
    "        if is_prime(i):\n",
    "            count += 1\n",
    "        i += 1\n",
    "    return i - 1\n",
    "\n",
    "print(f'Số nguyên tố thứ {n} là: {nth_prime(n)}')"
   ]
  },
  {
   "cell_type": "code",
   "execution_count": 9,
   "metadata": {},
   "outputs": [
    {
     "name": "stdout",
     "output_type": "stream",
     "text": [
      "Requirement already satisfied: sympy in c:\\users\\lenovo\\appdata\\local\\programs\\python\\python312\\lib\\site-packages (1.12.1)\n",
      "Requirement already satisfied: mpmath<1.4.0,>=1.1.0 in c:\\users\\lenovo\\appdata\\local\\programs\\python\\python312\\lib\\site-packages (from sympy) (1.3.0)\n",
      "Note: you may need to restart the kernel to use updated packages.\n"
     ]
    }
   ],
   "source": [
    "%pip install sympy"
   ]
  },
  {
   "cell_type": "code",
   "execution_count": 11,
   "metadata": {},
   "outputs": [
    {
     "name": "stdout",
     "output_type": "stream",
     "text": [
      "15485863\n"
     ]
    }
   ],
   "source": [
    "import sympy\n",
    "\n",
    "n = 10 ** 6\n",
    "print(sympy.prime(n))"
   ]
  },
  {
   "cell_type": "code",
   "execution_count": 13,
   "metadata": {},
   "outputs": [
    {
     "name": "stdout",
     "output_type": "stream",
     "text": [
      "S = 1/1 + 1/2 + 1/3 + 1/4 + 1/5 + 1/6 + 1/7 + 1/8 + 1/9 + 1/10 + 1/11 + 1/12 + 1/13 + 1/14 + 1/15 + 1/16 + 1/17 + 1/18 + 1/19 + 1/20 + 1/21 + 1/22 + 1/23 + 1/24 + 1/25 + 1/26 + 1/27 + 1/28 + 1/29 + 1/30 + 1/31 + 1/32 + 1/33 + 1/34 + 1/35 + 1/36 + 1/37 + 1/38 + 1/39 + 1/40 + 1/41 + 1/42 + 1/43 + 1/44 + 1/45 + 1/46 + 1/47 + 1/48 + 1/49 + 1/50 + 1/51 + 1/52 + 1/53 + 1/54 + 1/55 + 1/56 + 1/57 + 1/58 + 1/59 + 1/60 + 1/61 + 1/62 + 1/63 + 1/64 + 1/65 + 1/66 + 1/67 + 1/68 + 1/69 + 1/70 + 1/71 + 1/72 + 1/73 + 1/74 + 1/75 + 1/76 + 1/77 + 1/78 + 1/79 + 1/80 + 1/81 + 1/82 + 1/83 + 1/84 + 1/85 + 1/86 + 1/87 + 1/88 + 1/89 + 1/90 = 5.082570602848516\n"
     ]
    }
   ],
   "source": [
    "# Bài 30. Nhập vào 1 số nguyên dương n. In ra tổng 1 + 1/2 + 1/3 + ... + 1/n.\n",
    "n = int(input('Nhập vào 1 số nguyên dương n: ').strip())\n",
    "total = 0\n",
    "result = 'S = '\n",
    "for i in range(1, n):\n",
    "    total += 1 / i\n",
    "    result += f'1/{i} + '\n",
    "total += 1 / n\n",
    "result += f'1/{n} = {total}'\n",
    "print(result)"
   ]
  },
  {
   "cell_type": "code",
   "execution_count": 6,
   "metadata": {},
   "outputs": [
    {
     "name": "stdout",
     "output_type": "stream",
     "text": [
      "Tam giác ABC với các cạnh a = 3.0, b = 4.0, c = 6.0 là tam giác tù\n"
     ]
    }
   ],
   "source": [
    "# Bài 31. Nhập vào 3 số a, b, c. Kiểm tra tam giác nhọn, tù, vuông hay không là tam giác.\n",
    "a, b, c = map(float, input('Nhập vào 3 số a b c: ').strip().split())\n",
    "\n",
    "def is_triangle(a, b, c):\n",
    "    return a + b > c and a + c > b and b + c > a\n",
    "\n",
    "def is_pytago(a, b, c):\n",
    "    return a ** 2 + b ** 2 == c ** 2 or a ** 2 + c ** 2 == b ** 2 or b ** 2 + c ** 2 == a ** 2\n",
    "\n",
    "def type_of_triangle(a, b, c):\n",
    "    if not is_triangle(a, b, c):\n",
    "        return 'không tạo thành 1 tam giác'\n",
    "    if is_pytago(a, b, c):\n",
    "        return 'tam giác vuông'\n",
    "    if a ** 2 + b ** 2 < c ** 2 or a ** 2 + c ** 2 < b ** 2 or b ** 2 + c ** 2 < a ** 2:\n",
    "        return 'tam giác tù'\n",
    "    return 'tam giác nhọn'\n",
    "\n",
    "print(f'Tam giác ABC với các cạnh a = {a}, b = {b}, c = {c} là {type_of_triangle(a, b, c)}')"
   ]
  },
  {
   "cell_type": "code",
   "execution_count": 15,
   "metadata": {},
   "outputs": [],
   "source": [
    "# Bài 32. Nhập vào 1 chuỗi. In ra theo thứ tự như sau: \n",
    "# Eg: \n",
    "# Input: Hello\n",
    "# Output: \n",
    "# H \n",
    "# He\n",
    "# Hel \n",
    "# Hell\n",
    "# Hello\n",
    "# Hello\n",
    "# Hell\n",
    "# Hel\n",
    "# He\n",
    "# H"
   ]
  },
  {
   "cell_type": "code",
   "execution_count": null,
   "metadata": {},
   "outputs": [],
   "source": [
    "# Bài 33. Nhập vào 2 số n và k. Gọi n = q * k + r. In ra q và r."
   ]
  }
 ],
 "metadata": {
  "kernelspec": {
   "display_name": "py",
   "language": "python",
   "name": "python3"
  },
  "language_info": {
   "codemirror_mode": {
    "name": "ipython",
    "version": 3
   },
   "file_extension": ".py",
   "mimetype": "text/x-python",
   "name": "python",
   "nbconvert_exporter": "python",
   "pygments_lexer": "ipython3",
   "version": "3.12.3"
  }
 },
 "nbformat": 4,
 "nbformat_minor": 2
}
