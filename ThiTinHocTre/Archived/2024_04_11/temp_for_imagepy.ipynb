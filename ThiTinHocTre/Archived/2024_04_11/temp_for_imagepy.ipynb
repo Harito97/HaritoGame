{
 "cells": [
  {
   "cell_type": "code",
   "execution_count": 24,
   "metadata": {},
   "outputs": [
    {
     "name": "stdout",
     "output_type": "stream",
     "text": [
      "Tọa độ hình chiếu vuông góc của các điểm trong A: [(1.0, 1.0), (2.5, 2.5), (3.0, 3.0), (2.5, 2.5), (3.5, 3.5), (3.0, 3.0)]\n"
     ]
    }
   ],
   "source": [
    "def projection(x, y):\n",
    "    # Tính tọa độ trung điểm\n",
    "    mid_x = (x + y) / 2\n",
    "    mid_y = (x + y) / 2\n",
    "    return (mid_x, mid_y)\n",
    "\n",
    "def perpendicular_projection(A):\n",
    "    projections = []\n",
    "    for point in A:\n",
    "        x, y = point\n",
    "        # Tìm tọa độ hình chiếu\n",
    "        proj = projection(x, y)\n",
    "        projections.append(proj)\n",
    "    return projections\n",
    "\n",
    "# Example usage:\n",
    "points = [(1, 1), (2, 3), (3, 3), (2, 3), (3, 4), (2, 4)]\n",
    "projections = perpendicular_projection(points)\n",
    "print(\"Tọa độ hình chiếu vuông góc của các điểm trong A:\", projections)\n"
   ]
  },
  {
   "cell_type": "code",
   "execution_count": 25,
   "metadata": {},
   "outputs": [
    {
     "name": "stdout",
     "output_type": "stream",
     "text": [
      "Tâm của các cụm: [[2.5        2.5       ]\n",
      " [1.         1.        ]\n",
      " [3.16666667 3.16666667]]\n",
      "Labels: [1 0 2 0 2 2]\n"
     ]
    }
   ],
   "source": [
    "from sklearn.cluster import KMeans\n",
    "\n",
    "def cluster_centers(points, k):\n",
    "    kmeans = KMeans(n_clusters=k)\n",
    "    kmeans.fit(points)\n",
    "    return kmeans.cluster_centers_, kmeans.labels_\n",
    "\n",
    "def round_centers(centers):\n",
    "    rounded_centers = []\n",
    "    for center in centers:\n",
    "        rounded_center = []\n",
    "        for coord in center:\n",
    "            rounded_coord = round(coord * 2) / 2\n",
    "            rounded_center.append(rounded_coord)\n",
    "        rounded_centers.append(rounded_center)\n",
    "    return rounded_centers\n",
    "\n",
    "k = 3\n",
    "centers, labels = cluster_centers(list(projections), k)\n",
    "print(\"Tâm của các cụm:\", centers)\n",
    "print(\"Labels:\", labels)\n"
   ]
  },
  {
   "cell_type": "code",
   "execution_count": 35,
   "metadata": {},
   "outputs": [
    {
     "name": "stdout",
     "output_type": "stream",
     "text": [
      "Số lượng điểm trong hình tròn: 9\n"
     ]
    }
   ],
   "source": [
    "import math\n",
    "\n",
    "def count_points_in_circle(xi, yi, R, m):\n",
    "    count = 0\n",
    "    for x in range(max(0, int(xi - R)), min(m + 1, int(xi + R + 1))):\n",
    "        for y in range(max(0, int(yi - R)), min(m + 1, int(yi + R + 1))):\n",
    "            if (x - xi) ** 2 + (y - yi) ** 2 <= R ** 2:\n",
    "                count += 1\n",
    "    return count\n",
    "\n",
    "# Ví dụ về việc xác định số lượng điểm trong hình tròn\n",
    "xi = 3\n",
    "yi = 3\n",
    "R = 2 ** 0.5\n",
    "m = 4\n",
    "num_points = count_points_in_circle(xi, yi, R, m)\n",
    "print(\"Số lượng điểm trong hình tròn:\", num_points)\n"
   ]
  },
  {
   "cell_type": "code",
   "execution_count": 27,
   "metadata": {},
   "outputs": [
    {
     "name": "stdout",
     "output_type": "stream",
     "text": [
      "Tâm của các cụm sau khi làm tròn: [[2.5, 2.5], [1.0, 1.0], [3.5, 3.0]]\n"
     ]
    }
   ],
   "source": [
    "def round_centers(centers):\n",
    "    rounded_centers = []\n",
    "    for center in centers:\n",
    "        rounded_center = []\n",
    "        for coord in center:\n",
    "            rounded_coord = round(coord * 2) / 2\n",
    "            rounded_center.append(rounded_coord)\n",
    "        rounded_centers.append(rounded_center)\n",
    "    return rounded_centers\n",
    "\n",
    "# Ví dụ về việc làm tròn các tâm của các cụm\n",
    "centers = [[2.5, 2.5], [1.0, 1.0], [3.56666667, 3.16666667]]\n",
    "rounded_centers = round_centers(centers)\n",
    "print(\"Tâm của các cụm sau khi làm tròn:\", rounded_centers)\n"
   ]
  }
 ],
 "metadata": {
  "kernelspec": {
   "display_name": "py",
   "language": "python",
   "name": "python3"
  },
  "language_info": {
   "codemirror_mode": {
    "name": "ipython",
    "version": 3
   },
   "file_extension": ".py",
   "mimetype": "text/x-python",
   "name": "python",
   "nbconvert_exporter": "python",
   "pygments_lexer": "ipython3",
   "version": "3.11.8"
  }
 },
 "nbformat": 4,
 "nbformat_minor": 2
}
