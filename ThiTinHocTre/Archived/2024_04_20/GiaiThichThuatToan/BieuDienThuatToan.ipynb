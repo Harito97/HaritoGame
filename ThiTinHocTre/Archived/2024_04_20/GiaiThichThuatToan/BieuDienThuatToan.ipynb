{
 "cells": [
  {
   "cell_type": "markdown",
   "metadata": {},
   "source": [
    "# Biểu diễn thuật toán Problem A"
   ]
  },
  {
   "cell_type": "markdown",
   "metadata": {},
   "source": [
    "![image](ProblemA.jpg)"
   ]
  },
  {
   "cell_type": "markdown",
   "metadata": {},
   "source": [
    "# Biểu diễn thuật toán Problem B"
   ]
  },
  {
   "cell_type": "markdown",
   "metadata": {},
   "source": [
    "![image](ProblemB.jpg)"
   ]
  },
  {
   "cell_type": "markdown",
   "metadata": {},
   "source": [
    "# Biểu diễn thuật toán Problem C"
   ]
  },
  {
   "cell_type": "markdown",
   "metadata": {},
   "source": [
    "![image](ProblemC.jpg)"
   ]
  },
  {
   "cell_type": "code",
   "execution_count": 4,
   "metadata": {},
   "outputs": [
    {
     "name": "stdout",
     "output_type": "stream",
     "text": [
      "3.499205338329425\n",
      "174.96026691647126\n",
      "0.019999999999999997\n"
     ]
    }
   ],
   "source": [
    "# Tính giá trị của A\n",
    "A = sum(1/i for i in range(2, 51))\n",
    "\n",
    "# Tính giá trị của B\n",
    "B = sum((i/(50-i)) for i in range(1, 50))\n",
    "\n",
    "# Tính A/B\n",
    "result = A/B\n",
    "\n",
    "print(A)\n",
    "print(B)\n",
    "print(result)"
   ]
  }
 ],
 "metadata": {
  "kernelspec": {
   "display_name": "py",
   "language": "python",
   "name": "python3"
  },
  "language_info": {
   "codemirror_mode": {
    "name": "ipython",
    "version": 3
   },
   "file_extension": ".py",
   "mimetype": "text/x-python",
   "name": "python",
   "nbconvert_exporter": "python",
   "pygments_lexer": "ipython3",
   "version": "3.11.8"
  }
 },
 "nbformat": 4,
 "nbformat_minor": 2
}
