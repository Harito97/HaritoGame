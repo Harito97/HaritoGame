{
 "cells": [
  {
   "cell_type": "code",
   "execution_count": 1,
   "metadata": {},
   "outputs": [
    {
     "name": "stdout",
     "output_type": "stream",
     "text": [
      "8\n"
     ]
    }
   ],
   "source": [
    "def min_total_distance(n, distances, k):\n",
    "    total_distance = sum(distances)\n",
    "    if k == 1 or k == n:\n",
    "        return total_distance - max(distances)\n",
    "    else:\n",
    "        return total_distance - min(distances[k-1], distances[k-2])\n",
    "\n",
    "# Example usage:\n",
    "n = 5\n",
    "distances = [1, 2, 3, 4]\n",
    "k = 3\n",
    "print(min_total_distance(n, distances, k))\n"
   ]
  }
 ],
 "metadata": {
  "kernelspec": {
   "display_name": "ai_env_3.11",
   "language": "python",
   "name": "python3"
  },
  "language_info": {
   "codemirror_mode": {
    "name": "ipython",
    "version": 3
   },
   "file_extension": ".py",
   "mimetype": "text/x-python",
   "name": "python",
   "nbconvert_exporter": "python",
   "pygments_lexer": "ipython3",
   "version": "3.11.9"
  }
 },
 "nbformat": 4,
 "nbformat_minor": 2
}
