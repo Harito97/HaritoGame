{
 "cells": [
  {
   "cell_type": "code",
   "execution_count": 2,
   "metadata": {
    "vscode": {
     "languageId": "latex"
    }
   },
   "outputs": [
    {
     "ename": "SyntaxError",
     "evalue": "unexpected character after line continuation character (1066118790.py, line 1)",
     "output_type": "error",
     "traceback": [
      "\u001b[0;36m  Cell \u001b[0;32mIn[2], line 1\u001b[0;36m\u001b[0m\n\u001b[0;31m    \\documentclass{article}\u001b[0m\n\u001b[0m     ^\u001b[0m\n\u001b[0;31mSyntaxError\u001b[0m\u001b[0;31m:\u001b[0m unexpected character after line continuation character\n"
     ]
    }
   ],
   "source": [
    "\\documentclass{article}\n",
    "\\begin{document}\n",
    "Để tìm số \\( k \\) lớn nhất sao cho \\( m! \\mod n^k = 0 \\), chúng ta cần xác định số lần \\( n \\) có thể chia hết vào \\( m! \\) (giai thừa của \\( m \\)).\n",
    "\n",
    "### Cách tiếp cận:\n",
    "1. **Phân tích \\( n \\) thành các thừa số nguyên tố:**\n",
    "   - Ví dụ: \\( n = p_1^{e_1} \\times p_2^{e_2} \\times \\ldots \\times p_r^{e_r} \\)\n",
    "\n",
    "2. **Đếm số lần mỗi thừa số nguyên tố \\( p_i \\) xuất hiện trong \\( m! \\):**\n",
    "   - Số lần \\( p_i \\) xuất hiện trong \\( m! \\) được tính bằng công thức: \n",
    "     \\[\n",
    "     \\text{count}_{p_i} = \\left\\lfloor \\frac{m}{p_i} \\right\\rfloor + \\left\\lfloor \\frac{m}{p_i^2} \\right\\rfloor + \\left\\lfloor \\frac{m}{p_i^3} \\right\\rfloor + \\ldots\n",
    "     \\]\n",
    "\n",
    "3. **Tính số lần \\( n \\) có thể chia hết vào \\( m! \\):**\n",
    "   - Với mỗi thừa số nguyên tố \\( p_i \\) trong \\( n \\), số lần \\( p_i^{e_i} \\) xuất hiện trong \\( m! \\) là:\n",
    "     \\[\n",
    "     k_i = \\frac{\\text{count}_{p_i}}{e_i}\n",
    "     \\]\n",
    "   - Số lần \\( n \\) chia hết vào \\( m! \\) là:\n",
    "     \\[\n",
    "     k = \\min(k_1, k_2, \\ldots, k_r)\n",
    "     \\]\n",
    "\n",
    "### Mã nguồn Python để tính \\( k \\):\n",
    "\n",
    "```python\n",
    "import math\n",
    "from collections import Counter\n",
    "\n",
    "def prime_factors(n):\n",
    "    \"\"\"Returns the prime factorization of n as a dictionary {prime: exponent}.\"\"\"\n",
    "    i = 2\n",
    "    factors = Counter()\n",
    "    while i * i <= n:\n",
    "        while (n % i) == 0:\n",
    "            factors[i] += 1\n",
    "            n //= i\n",
    "        i += 1\n",
    "    if n > 1:\n",
    "        factors[n] += 1\n",
    "    return factors\n",
    "\n",
    "def count_p_in_factorial(m, p):\n",
    "    \"\"\"Returns the number of times prime p appears in m!\"\"\"\n",
    "    count = 0\n",
    "    power = p\n",
    "    while power <= m:\n",
    "        count += m // power\n",
    "        power *= p\n",
    "    return count\n",
    "\n",
    "def max_k(m, n):\n",
    "    n_factors = prime_factors(n)\n",
    "    min_k = float('inf')\n",
    "    \n",
    "    for p, e in n_factors.items():\n",
    "        count_p = count_p_in_factorial(m, p)\n",
    "        k = count_p // e\n",
    "        if k < min_k:\n",
    "            min_k = k\n",
    "            \n",
    "    return min_k\n",
    "\n",
    "# Example usage:\n",
    "m = 10\n",
    "n = 12\n",
    "print(max_k(m, n))  # Output the largest k\n",
    "\n",
    "# Input values\n",
    "m = int(input(\"Enter value for m: \"))\n",
    "n = int(input(\"Enter value for n: \"))\n",
    "\n",
    "# Compute and print the result\n",
    "result = max_k(m, n)\n",
    "print(f\"The largest k such that {m}! % {n}^k == 0 is: {result}\")\n",
    "```\n",
    "\n",
    "### Giải thích mã nguồn:\n",
    "1. **Hàm `prime_factors(n)`**: Trả về một từ điển chứa phân tích thừa số nguyên tố của \\( n \\).\n",
    "2. **Hàm `count_p_in_factorial(m, p)`**: Đếm số lần thừa số nguyên tố \\( p \\) xuất hiện trong \\( m! \\).\n",
    "3. **Hàm `max_k(m, n)`**: Tìm \\( k \\) lớn nhất sao cho \\( m! \\mod n^k = 0 \\) bằng cách:\n",
    "   - Phân tích \\( n \\) thành các thừa số nguyên tố.\n",
    "   - Tính số lần mỗi thừa số nguyên tố xuất hiện trong \\( m! \\).\n",
    "   - Tính số lần \\( n \\) có thể chia hết vào \\( m! \\) và lấy giá trị nhỏ nhất trong các kết quả này.\n",
    "\n",
    "Bằng cách sử dụng phương pháp này, chúng ta có thể tìm được \\( k \\) lớn nhất một cách hiệu quả và chính xác.\n",
    "\\end{document}"
   ]
  },
  {
   "cell_type": "code",
   "execution_count": 3,
   "metadata": {},
   "outputs": [
    {
     "name": "stdout",
     "output_type": "stream",
     "text": [
      "[[1, 5], [1, 2], [1, 4], [5, 2], [5, 4], [2, 4]]\n"
     ]
    }
   ],
   "source": [
    "def combinations_with_order(arr, k):\n",
    "    if k == 0:\n",
    "        return [[]]\n",
    "    if not arr:\n",
    "        return []\n",
    "    head = arr[0]\n",
    "    tail = arr[1:]\n",
    "    combos = []\n",
    "    for combo in combinations_with_order(tail, k - 1):\n",
    "        combos.append([head] + combo)\n",
    "    combos.extend(combinations_with_order(tail, k))\n",
    "    return combos\n",
    "\n",
    "# Sử dụng hàm\n",
    "arr = [1, 5, 2, 4]\n",
    "k = 2\n",
    "result = combinations_with_order(arr, k)\n",
    "print(result)"
   ]
  }
 ],
 "metadata": {
  "kernelspec": {
   "display_name": "ai_env_3.11",
   "language": "python",
   "name": "python3"
  },
  "language_info": {
   "codemirror_mode": {
    "name": "ipython",
    "version": 3
   },
   "file_extension": ".py",
   "mimetype": "text/x-python",
   "name": "python",
   "nbconvert_exporter": "python",
   "pygments_lexer": "ipython3",
   "version": "3.11.9"
  }
 },
 "nbformat": 4,
 "nbformat_minor": 2
}
