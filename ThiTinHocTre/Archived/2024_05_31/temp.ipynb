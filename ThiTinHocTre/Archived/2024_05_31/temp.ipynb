{
 "cells": [
  {
   "cell_type": "markdown",
   "metadata": {},
   "source": [
    "\n",
    "\n",
    "\n",
    "![image](/d:/HaritoWork/HaritoGame/ThiTinHocTre/2024_05_31/436685056_1198742921497516_4209998608828313741_n.jpg)\n"
   ]
  },
  {
   "cell_type": "code",
   "execution_count": 15,
   "metadata": {},
   "outputs": [
    {
     "name": "stdout",
     "output_type": "stream",
     "text": [
      "6 8 [[1, 2, 3, 1, 3, 2, 6, 9], [4, 5, 6, 7, 9, 10, 12, 14], [100, 2, 4, 7, 15, 20, 21, 27], [1, 2, 3, 1, 2, 4, 5, 7], [1, 2, 3, 5, 7, 9, 10, 11], [12, 15, 18, 19, 20, 21, 22, 25]]\n",
      "6 8\n",
      "(115, [100, 4, 5, 6])\n"
     ]
    }
   ],
   "source": [
    "CASE = [[[0, 0], [0, 0 + 1], [0, 0 + 2], [0 + 1, 0 + 2]],\n",
    "        [[0, 0], [0, 0 + 1], [0, 0 + 2], [0 - 1, 0 + 2]],\n",
    "        [[0, 0], [0, 0 + 1], [0, 0 + 2], [0, 0 + 3]],\n",
    "        [[0, 0], [0, 0 - 1], [0, 0 + 1], [0 - 1, 0]],\n",
    "        [[0, 0], [0, 0 - 1], [0, 0 + 1], [0 + 1, 0]],\n",
    "        [[0, 0], [0, 0 - 1], [0, 0 + 1], [0 - 1, 0]],\n",
    "        [[0, 0], [1, 0], [2, 0], [3, 0]],\n",
    "        [[0, 0], [-1, 0], [-1, 1], [-1, 2]],\n",
    "        [[0, 0], [1, 0], [1, 1], [1, 2]],\n",
    "        [[0, 0], [0, -1], [1, -1], [2, -1]],\n",
    "        [[0, 0], [0, 1], [1, 1], [2, 1]],\n",
    "        [[0, 0], [0, -1], [-1, -1], [-2, -1]],\n",
    "        [[0, 0], [0, 1], [-1, 1], [-2, 1]]] # tổng cộng 13 trường hợp\n",
    "\n",
    "def read_input():\n",
    "    m = 6\n",
    "    n = 8\n",
    "    data = \"1 2 3 1 3 2 6 9\\n4 5 6 7 9 10 12 14\\n100 2 4 7 15 20 21 27\\n1 2 3 1 2 4 5 7\\n1 2 3 5 7 9 10 11\\n12 15 18 19 20 21 22 25\"\n",
    "    matrix = [[int(x) for x in line.split()] for line in data.split('\\n')]\n",
    "    return m, n, matrix\n",
    "\n",
    "def sum_matrix(matrix, i, j, m, n):\n",
    "    case = dict()\n",
    "    for x in range(len(CASE)):\n",
    "        temp = []\n",
    "        for y in range(len(CASE[0])):\n",
    "            new_i = i + CASE[x][y][0]\n",
    "            new_j = j + CASE[x][y][1]\n",
    "            if 0 <= new_i < m and 0 <= new_j < n:\n",
    "                # print(new_i, new_j)\n",
    "                temp.append(matrix[new_i][new_j])\n",
    "        if len(temp) == 4:\n",
    "            case[sum(temp)] = temp\n",
    "    for key, value in case.items():\n",
    "        # if key >= 100:\n",
    "        #     print(value)\n",
    "        if key == max(case.keys()):\n",
    "            return key, value\n",
    "    else:\n",
    "        return None\n",
    "\n",
    "def process(matrix, m, n):\n",
    "    result = (0, 0)\n",
    "    for i in range(m):\n",
    "        for j in range(n):\n",
    "            temp = sum_matrix(matrix, i, j, m, n)\n",
    "            if temp != None and temp[0] > result[0]:\n",
    "                result = temp\n",
    "    return result\n",
    "\n",
    "def main():\n",
    "    m, n, matrix = read_input()\n",
    "    print(m, n, matrix)\n",
    "    print(len(matrix), len(matrix[0]))\n",
    "    print(process(matrix, m, n))\n",
    "\n",
    "if __name__ == '__main__':\n",
    "    main()"
   ]
  }
 ],
 "metadata": {
  "kernelspec": {
   "display_name": "Python 3",
   "language": "python",
   "name": "python3"
  },
  "language_info": {
   "codemirror_mode": {
    "name": "ipython",
    "version": 3
   },
   "file_extension": ".py",
   "mimetype": "text/x-python",
   "name": "python",
   "nbconvert_exporter": "python",
   "pygments_lexer": "ipython3",
   "version": "3.12.3"
  }
 },
 "nbformat": 4,
 "nbformat_minor": 2
}
